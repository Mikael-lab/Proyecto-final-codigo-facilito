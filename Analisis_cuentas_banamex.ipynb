{
  "nbformat": 4,
  "nbformat_minor": 0,
  "metadata": {
    "colab": {
      "provenance": [],
      "mount_file_id": "1pEuOsfyy5IZhlYtK8lVfs0IHHJ6jYn1I",
      "authorship_tag": "ABX9TyPqBlo/PlAV/P5md/SeGiSC",
      "include_colab_link": true
    },
    "kernelspec": {
      "name": "python3",
      "display_name": "Python 3"
    },
    "language_info": {
      "name": "python"
    }
  },
  "cells": [
    {
      "cell_type": "markdown",
      "metadata": {
        "id": "view-in-github",
        "colab_type": "text"
      },
      "source": [
        "<a href=\"https://colab.research.google.com/github/Mikael-lab/Proyecto-final-codigo-facilito/blob/main/Analisis_cuentas_banamex.ipynb\" target=\"_parent\"><img src=\"https://colab.research.google.com/assets/colab-badge.svg\" alt=\"Open In Colab\"/></a>"
      ]
    },
    {
      "cell_type": "markdown",
      "source": [
        "\n",
        "## Exploración de datos de créditos Bancarios en su proceso de cobranza en el año 2010"
      ],
      "metadata": {
        "id": "jXfnNMjviJ8Q"
      }
    },
    {
      "cell_type": "markdown",
      "source": [
        "Bienvenido, en este proyecto utiliza información obtenida de un proceso de cobranza.\n",
        "\n",
        "\n",
        "*Cobranza*:\n",
        "La cobranza es el acto o procedimiento por el cual se consigue la contraprestación por un bien o servicio o la cancelación de una deuda.\n",
        "\n",
        "Referencia: https://economipedia.com/definiciones/cobranza.html\n",
        "\n",
        "\n",
        "Para este proyecto nos enfocaremos en analizar la información de contacto con el deudor, dicho de otra manera, la gestión de la cuenta.\n",
        "\n",
        "\n",
        "El objetivo final de cada gestión realizada a una cuenta es conseguir una promesa de pago por parte del titular.\n",
        "\n",
        "Una promesa de pago es el registro de la fecha en que el titular se compromete a realizar el pago solicitado.\n",
        "\n",
        "Dados estos escenarios, las preguntas que buscamos responder son las siguientes:\n",
        "\n",
        "1. ¿Que cantidad de Gestiones se realizan en periodos de 1 mes?\n",
        "\n",
        "2. ¿Que cantidad de promesas de pago se consiguieron en periodos de 1 mes?\n",
        "\n",
        "3. ¿Hay relación entre el volumen de Gestiones y la cantidad de promesas de pago?\n"
      ],
      "metadata": {
        "id": "CUdgaMROkh6O"
      }
    },
    {
      "cell_type": "markdown",
      "source": [
        "## Carga de datos originales"
      ],
      "metadata": {
        "id": "7fojwtY9WEZY"
      }
    },
    {
      "cell_type": "code",
      "execution_count": 8,
      "metadata": {
        "id": "yIOvmnGziCNV"
      },
      "outputs": [],
      "source": [
        "#Utilizaremos la libreria de pandas para manipular los datos originales\n",
        "import pandas as pd\n"
      ]
    },
    {
      "cell_type": "code",
      "source": [
        "data = pd.read_csv('/content/drive/MyDrive/Proyecto final Data Science/gestiones_bnx_filtradas.csv')"
      ],
      "metadata": {
        "id": "AlkZuovZWXrS"
      },
      "execution_count": 2,
      "outputs": []
    },
    {
      "cell_type": "code",
      "source": [
        "# Damos un primer vistazo a nuestros datos\n",
        "data"
      ],
      "metadata": {
        "colab": {
          "base_uri": "https://localhost:8080/",
          "height": 424
        },
        "id": "T9eRXYaAvr1-",
        "outputId": "87052315-4723-4ff7-8a42-bde161489803"
      },
      "execution_count": 3,
      "outputs": [
        {
          "output_type": "execute_result",
          "data": {
            "text/plain": [
              "         IdGestion  IdCtaDesp       Fecha      Hora  IdTipoGestion  \\\n",
              "0          8081195     905361  2010-10-07  16:31:30              1   \n",
              "1          8082138     915998  2010-10-07  18:34:57              1   \n",
              "2          8082137     662872  2010-10-07  18:31:54              1   \n",
              "3          8082136     910303  2010-10-07  18:36:35              1   \n",
              "4          8082135     195590  2010-10-07  18:35:55              1   \n",
              "...            ...        ...         ...       ...            ...   \n",
              "1028384    8528500     230090  2010-12-27  19:47:00              3   \n",
              "1028385    8528501     230090  2010-12-30  10:01:00              3   \n",
              "1028386    8528502     261142  2010-12-27  20:49:00              3   \n",
              "1028387    8528503     261142  2010-12-30  12:31:00              3   \n",
              "1028388    8528504     915279  2010-12-31  14:45:49              1   \n",
              "\n",
              "         IdCodAccion  IdCodResultado  TipoPP  Monto  \\\n",
              "0                 33              36     0.0    0.0   \n",
              "1                 33              42     0.0    0.0   \n",
              "2                 33              50     0.0    0.0   \n",
              "3                 33             302     0.0    0.0   \n",
              "4                 33              41     0.0    0.0   \n",
              "...              ...             ...     ...    ...   \n",
              "1028384           38              27     0.0    0.0   \n",
              "1028385           38              73     0.0    0.0   \n",
              "1028386           38              73     0.0    0.0   \n",
              "1028387           38              73     0.0    0.0   \n",
              "1028388           33              50     0.0    0.0   \n",
              "\n",
              "                                               Comentarios  \n",
              "0                                            MENSAJE BUZON  \n",
              "1                                   240 NO REG TELEF DE TT  \n",
              "2                            NO CONTESTA SIN OPCIONA BUZON  \n",
              "3                           83595998 NUM FUERA DE SERVICIO  \n",
              "4                                   TEL DA TONO DE OCUPADO  \n",
              "...                                                    ...  \n",
              "1028384  SE DEJO NOTIFICACION CON TITULAR INFORMA PAGAR...  \n",
              "1028385  SE DEJO NOTIFICACION CON VECINO DE TITULAR DE ...  \n",
              "1028386  SE DEJO NOTIFICACION CON INQUILINO DE TITULAR ...  \n",
              "1028387  SE DEJO NOTIFICACION CON INQUILINO DE TITULAR ...  \n",
              "1028388                  NO CONTESTAN NO DA OPCION A BUZON  \n",
              "\n",
              "[1028389 rows x 10 columns]"
            ],
            "text/html": [
              "\n",
              "  <div id=\"df-3d526f0b-26ed-4c1a-a024-40b4daa9d9d0\">\n",
              "    <div class=\"colab-df-container\">\n",
              "      <div>\n",
              "<style scoped>\n",
              "    .dataframe tbody tr th:only-of-type {\n",
              "        vertical-align: middle;\n",
              "    }\n",
              "\n",
              "    .dataframe tbody tr th {\n",
              "        vertical-align: top;\n",
              "    }\n",
              "\n",
              "    .dataframe thead th {\n",
              "        text-align: right;\n",
              "    }\n",
              "</style>\n",
              "<table border=\"1\" class=\"dataframe\">\n",
              "  <thead>\n",
              "    <tr style=\"text-align: right;\">\n",
              "      <th></th>\n",
              "      <th>IdGestion</th>\n",
              "      <th>IdCtaDesp</th>\n",
              "      <th>Fecha</th>\n",
              "      <th>Hora</th>\n",
              "      <th>IdTipoGestion</th>\n",
              "      <th>IdCodAccion</th>\n",
              "      <th>IdCodResultado</th>\n",
              "      <th>TipoPP</th>\n",
              "      <th>Monto</th>\n",
              "      <th>Comentarios</th>\n",
              "    </tr>\n",
              "  </thead>\n",
              "  <tbody>\n",
              "    <tr>\n",
              "      <th>0</th>\n",
              "      <td>8081195</td>\n",
              "      <td>905361</td>\n",
              "      <td>2010-10-07</td>\n",
              "      <td>16:31:30</td>\n",
              "      <td>1</td>\n",
              "      <td>33</td>\n",
              "      <td>36</td>\n",
              "      <td>0.0</td>\n",
              "      <td>0.0</td>\n",
              "      <td>MENSAJE BUZON</td>\n",
              "    </tr>\n",
              "    <tr>\n",
              "      <th>1</th>\n",
              "      <td>8082138</td>\n",
              "      <td>915998</td>\n",
              "      <td>2010-10-07</td>\n",
              "      <td>18:34:57</td>\n",
              "      <td>1</td>\n",
              "      <td>33</td>\n",
              "      <td>42</td>\n",
              "      <td>0.0</td>\n",
              "      <td>0.0</td>\n",
              "      <td>240 NO REG TELEF DE TT</td>\n",
              "    </tr>\n",
              "    <tr>\n",
              "      <th>2</th>\n",
              "      <td>8082137</td>\n",
              "      <td>662872</td>\n",
              "      <td>2010-10-07</td>\n",
              "      <td>18:31:54</td>\n",
              "      <td>1</td>\n",
              "      <td>33</td>\n",
              "      <td>50</td>\n",
              "      <td>0.0</td>\n",
              "      <td>0.0</td>\n",
              "      <td>NO CONTESTA SIN OPCIONA BUZON</td>\n",
              "    </tr>\n",
              "    <tr>\n",
              "      <th>3</th>\n",
              "      <td>8082136</td>\n",
              "      <td>910303</td>\n",
              "      <td>2010-10-07</td>\n",
              "      <td>18:36:35</td>\n",
              "      <td>1</td>\n",
              "      <td>33</td>\n",
              "      <td>302</td>\n",
              "      <td>0.0</td>\n",
              "      <td>0.0</td>\n",
              "      <td>83595998 NUM FUERA DE SERVICIO</td>\n",
              "    </tr>\n",
              "    <tr>\n",
              "      <th>4</th>\n",
              "      <td>8082135</td>\n",
              "      <td>195590</td>\n",
              "      <td>2010-10-07</td>\n",
              "      <td>18:35:55</td>\n",
              "      <td>1</td>\n",
              "      <td>33</td>\n",
              "      <td>41</td>\n",
              "      <td>0.0</td>\n",
              "      <td>0.0</td>\n",
              "      <td>TEL DA TONO DE OCUPADO</td>\n",
              "    </tr>\n",
              "    <tr>\n",
              "      <th>...</th>\n",
              "      <td>...</td>\n",
              "      <td>...</td>\n",
              "      <td>...</td>\n",
              "      <td>...</td>\n",
              "      <td>...</td>\n",
              "      <td>...</td>\n",
              "      <td>...</td>\n",
              "      <td>...</td>\n",
              "      <td>...</td>\n",
              "      <td>...</td>\n",
              "    </tr>\n",
              "    <tr>\n",
              "      <th>1028384</th>\n",
              "      <td>8528500</td>\n",
              "      <td>230090</td>\n",
              "      <td>2010-12-27</td>\n",
              "      <td>19:47:00</td>\n",
              "      <td>3</td>\n",
              "      <td>38</td>\n",
              "      <td>27</td>\n",
              "      <td>0.0</td>\n",
              "      <td>0.0</td>\n",
              "      <td>SE DEJO NOTIFICACION CON TITULAR INFORMA PAGAR...</td>\n",
              "    </tr>\n",
              "    <tr>\n",
              "      <th>1028385</th>\n",
              "      <td>8528501</td>\n",
              "      <td>230090</td>\n",
              "      <td>2010-12-30</td>\n",
              "      <td>10:01:00</td>\n",
              "      <td>3</td>\n",
              "      <td>38</td>\n",
              "      <td>73</td>\n",
              "      <td>0.0</td>\n",
              "      <td>0.0</td>\n",
              "      <td>SE DEJO NOTIFICACION CON VECINO DE TITULAR DE ...</td>\n",
              "    </tr>\n",
              "    <tr>\n",
              "      <th>1028386</th>\n",
              "      <td>8528502</td>\n",
              "      <td>261142</td>\n",
              "      <td>2010-12-27</td>\n",
              "      <td>20:49:00</td>\n",
              "      <td>3</td>\n",
              "      <td>38</td>\n",
              "      <td>73</td>\n",
              "      <td>0.0</td>\n",
              "      <td>0.0</td>\n",
              "      <td>SE DEJO NOTIFICACION CON INQUILINO DE TITULAR ...</td>\n",
              "    </tr>\n",
              "    <tr>\n",
              "      <th>1028387</th>\n",
              "      <td>8528503</td>\n",
              "      <td>261142</td>\n",
              "      <td>2010-12-30</td>\n",
              "      <td>12:31:00</td>\n",
              "      <td>3</td>\n",
              "      <td>38</td>\n",
              "      <td>73</td>\n",
              "      <td>0.0</td>\n",
              "      <td>0.0</td>\n",
              "      <td>SE DEJO NOTIFICACION CON INQUILINO DE TITULAR ...</td>\n",
              "    </tr>\n",
              "    <tr>\n",
              "      <th>1028388</th>\n",
              "      <td>8528504</td>\n",
              "      <td>915279</td>\n",
              "      <td>2010-12-31</td>\n",
              "      <td>14:45:49</td>\n",
              "      <td>1</td>\n",
              "      <td>33</td>\n",
              "      <td>50</td>\n",
              "      <td>0.0</td>\n",
              "      <td>0.0</td>\n",
              "      <td>NO CONTESTAN NO DA OPCION A BUZON</td>\n",
              "    </tr>\n",
              "  </tbody>\n",
              "</table>\n",
              "<p>1028389 rows × 10 columns</p>\n",
              "</div>\n",
              "      <button class=\"colab-df-convert\" onclick=\"convertToInteractive('df-3d526f0b-26ed-4c1a-a024-40b4daa9d9d0')\"\n",
              "              title=\"Convert this dataframe to an interactive table.\"\n",
              "              style=\"display:none;\">\n",
              "        \n",
              "  <svg xmlns=\"http://www.w3.org/2000/svg\" height=\"24px\"viewBox=\"0 0 24 24\"\n",
              "       width=\"24px\">\n",
              "    <path d=\"M0 0h24v24H0V0z\" fill=\"none\"/>\n",
              "    <path d=\"M18.56 5.44l.94 2.06.94-2.06 2.06-.94-2.06-.94-.94-2.06-.94 2.06-2.06.94zm-11 1L8.5 8.5l.94-2.06 2.06-.94-2.06-.94L8.5 2.5l-.94 2.06-2.06.94zm10 10l.94 2.06.94-2.06 2.06-.94-2.06-.94-.94-2.06-.94 2.06-2.06.94z\"/><path d=\"M17.41 7.96l-1.37-1.37c-.4-.4-.92-.59-1.43-.59-.52 0-1.04.2-1.43.59L10.3 9.45l-7.72 7.72c-.78.78-.78 2.05 0 2.83L4 21.41c.39.39.9.59 1.41.59.51 0 1.02-.2 1.41-.59l7.78-7.78 2.81-2.81c.8-.78.8-2.07 0-2.86zM5.41 20L4 18.59l7.72-7.72 1.47 1.35L5.41 20z\"/>\n",
              "  </svg>\n",
              "      </button>\n",
              "      \n",
              "  <style>\n",
              "    .colab-df-container {\n",
              "      display:flex;\n",
              "      flex-wrap:wrap;\n",
              "      gap: 12px;\n",
              "    }\n",
              "\n",
              "    .colab-df-convert {\n",
              "      background-color: #E8F0FE;\n",
              "      border: none;\n",
              "      border-radius: 50%;\n",
              "      cursor: pointer;\n",
              "      display: none;\n",
              "      fill: #1967D2;\n",
              "      height: 32px;\n",
              "      padding: 0 0 0 0;\n",
              "      width: 32px;\n",
              "    }\n",
              "\n",
              "    .colab-df-convert:hover {\n",
              "      background-color: #E2EBFA;\n",
              "      box-shadow: 0px 1px 2px rgba(60, 64, 67, 0.3), 0px 1px 3px 1px rgba(60, 64, 67, 0.15);\n",
              "      fill: #174EA6;\n",
              "    }\n",
              "\n",
              "    [theme=dark] .colab-df-convert {\n",
              "      background-color: #3B4455;\n",
              "      fill: #D2E3FC;\n",
              "    }\n",
              "\n",
              "    [theme=dark] .colab-df-convert:hover {\n",
              "      background-color: #434B5C;\n",
              "      box-shadow: 0px 1px 3px 1px rgba(0, 0, 0, 0.15);\n",
              "      filter: drop-shadow(0px 1px 2px rgba(0, 0, 0, 0.3));\n",
              "      fill: #FFFFFF;\n",
              "    }\n",
              "  </style>\n",
              "\n",
              "      <script>\n",
              "        const buttonEl =\n",
              "          document.querySelector('#df-3d526f0b-26ed-4c1a-a024-40b4daa9d9d0 button.colab-df-convert');\n",
              "        buttonEl.style.display =\n",
              "          google.colab.kernel.accessAllowed ? 'block' : 'none';\n",
              "\n",
              "        async function convertToInteractive(key) {\n",
              "          const element = document.querySelector('#df-3d526f0b-26ed-4c1a-a024-40b4daa9d9d0');\n",
              "          const dataTable =\n",
              "            await google.colab.kernel.invokeFunction('convertToInteractive',\n",
              "                                                     [key], {});\n",
              "          if (!dataTable) return;\n",
              "\n",
              "          const docLinkHtml = 'Like what you see? Visit the ' +\n",
              "            '<a target=\"_blank\" href=https://colab.research.google.com/notebooks/data_table.ipynb>data table notebook</a>'\n",
              "            + ' to learn more about interactive tables.';\n",
              "          element.innerHTML = '';\n",
              "          dataTable['output_type'] = 'display_data';\n",
              "          await google.colab.output.renderOutput(dataTable, element);\n",
              "          const docLink = document.createElement('div');\n",
              "          docLink.innerHTML = docLinkHtml;\n",
              "          element.appendChild(docLink);\n",
              "        }\n",
              "      </script>\n",
              "    </div>\n",
              "  </div>\n",
              "  "
            ]
          },
          "metadata": {},
          "execution_count": 3
        }
      ]
    },
    {
      "cell_type": "markdown",
      "source": [
        "## Propiedades del conjunto de datos"
      ],
      "metadata": {
        "id": "6Fiy5Id1yDbX"
      }
    },
    {
      "cell_type": "code",
      "source": [
        "# Para este punto vamos a utilizar la libreria funpymodelin\n",
        "!pip install funpymodeling"
      ],
      "metadata": {
        "id": "0G9c0d49vtpK",
        "colab": {
          "base_uri": "https://localhost:8080/"
        },
        "outputId": "c59a1a5a-57f7-46c9-f672-d1509ace01c5"
      },
      "execution_count": 9,
      "outputs": [
        {
          "output_type": "stream",
          "name": "stdout",
          "text": [
            "Looking in indexes: https://pypi.org/simple, https://us-python.pkg.dev/colab-wheels/public/simple/\n",
            "Collecting funpymodeling\n",
            "  Using cached funpymodeling-0.1.7-py3-none-any.whl (6.4 kB)\n",
            "Requirement already satisfied: numpy<2.0.0,>=1.18.5 in /usr/local/lib/python3.8/dist-packages (from funpymodeling) (1.21.6)\n",
            "Collecting seaborn<0.11.0,>=0.10.1\n",
            "  Downloading seaborn-0.10.1-py3-none-any.whl (215 kB)\n",
            "\u001b[2K     \u001b[90m━━━━━━━━━━━━━━━━━━━━━━━━━━━━━━━━━━━━━━━\u001b[0m \u001b[32m215.5/215.5 KB\u001b[0m \u001b[31m5.6 MB/s\u001b[0m eta \u001b[36m0:00:00\u001b[0m\n",
            "\u001b[?25hRequirement already satisfied: pandas<2.0.0,>=1.0.5 in /usr/local/lib/python3.8/dist-packages (from funpymodeling) (1.3.5)\n",
            "Requirement already satisfied: matplotlib<4.0.0,>=3.2.2 in /usr/local/lib/python3.8/dist-packages (from funpymodeling) (3.2.2)\n",
            "Collecting sklearn<0.1,>=0.0\n",
            "  Using cached sklearn-0.0.post1.tar.gz (3.6 kB)\n",
            "  \u001b[1;31merror\u001b[0m: \u001b[1msubprocess-exited-with-error\u001b[0m\n",
            "  \n",
            "  \u001b[31m×\u001b[0m \u001b[32mpython setup.py egg_info\u001b[0m did not run successfully.\n",
            "  \u001b[31m│\u001b[0m exit code: \u001b[1;36m1\u001b[0m\n",
            "  \u001b[31m╰─>\u001b[0m See above for output.\n",
            "  \n",
            "  \u001b[1;35mnote\u001b[0m: This error originates from a subprocess, and is likely not a problem with pip.\n",
            "  Preparing metadata (setup.py) ... \u001b[?25l\u001b[?25herror\n",
            "\u001b[1;31merror\u001b[0m: \u001b[1mmetadata-generation-failed\u001b[0m\n",
            "\n",
            "\u001b[31m×\u001b[0m Encountered error while generating package metadata.\n",
            "\u001b[31m╰─>\u001b[0m See above for output.\n",
            "\n",
            "\u001b[1;35mnote\u001b[0m: This is an issue with the package mentioned above, not pip.\n",
            "\u001b[1;36mhint\u001b[0m: See above for details.\n"
          ]
        }
      ]
    },
    {
      "cell_type": "code",
      "source": [
        "from funpymodeling.exploratory import status"
      ],
      "metadata": {
        "id": "Y4AtE88JyN6X",
        "colab": {
          "base_uri": "https://localhost:8080/",
          "height": 304
        },
        "outputId": "78c360bd-33c6-45b7-8b21-f5a78262ddec"
      },
      "execution_count": 6,
      "outputs": [
        {
          "output_type": "error",
          "ename": "ModuleNotFoundError",
          "evalue": "ignored",
          "traceback": [
            "\u001b[0;31m---------------------------------------------------------------------------\u001b[0m",
            "\u001b[0;31mModuleNotFoundError\u001b[0m                       Traceback (most recent call last)",
            "\u001b[0;32m<ipython-input-6-2fb96e3e0192>\u001b[0m in \u001b[0;36m<module>\u001b[0;34m\u001b[0m\n\u001b[0;32m----> 1\u001b[0;31m \u001b[0;32mfrom\u001b[0m \u001b[0mfunpymodeling\u001b[0m\u001b[0;34m.\u001b[0m\u001b[0mexploratory\u001b[0m \u001b[0;32mimport\u001b[0m \u001b[0mstatus\u001b[0m\u001b[0;34m\u001b[0m\u001b[0;34m\u001b[0m\u001b[0m\n\u001b[0m",
            "\u001b[0;31mModuleNotFoundError\u001b[0m: No module named 'funpymodeling'",
            "",
            "\u001b[0;31m---------------------------------------------------------------------------\u001b[0;32m\nNOTE: If your import is failing due to a missing package, you can\nmanually install dependencies using either !pip or !apt.\n\nTo view examples of installing some common dependencies, click the\n\"Open Examples\" button below.\n\u001b[0;31m---------------------------------------------------------------------------\u001b[0m\n"
          ],
          "errorDetails": {
            "actions": [
              {
                "action": "open_url",
                "actionText": "Open Examples",
                "url": "/notebooks/snippets/importing_libraries.ipynb"
              }
            ]
          }
        }
      ]
    },
    {
      "cell_type": "code",
      "source": [
        "# q_nan = cantidad de nulos\n",
        "# p_nan = porcentaje que representan los valores nulos\n",
        "# q_zeros = cantidad de ceros\n",
        "# p_zeros = porcentaje que representan los valores 0\n",
        "# unique = cantidad de valores unicos\n",
        "# type, object = string\n",
        "status(data)"
      ],
      "metadata": {
        "id": "iky-s7XayT11"
      },
      "execution_count": null,
      "outputs": []
    },
    {
      "cell_type": "markdown",
      "source": [
        "Nuestro archivo de datos original contiene un tota de 10 columnas, para responder las interrogantes definidas en el proyecto solamente utilizaremos IdCodResultado, Fecha.\n",
        "\n",
        "Observando la tabla de propiedades podemos saber que los campos que utilizaremos no tienen registros con valores nulos, esta se consiguio desde las reglas definidas en el proceso de cobranza:\n",
        "- Toda gestión debe tener un resultado.\n",
        "- Toda gestión debe tener una fecha en que se realizo."
      ],
      "metadata": {
        "id": "J2k0OhaDzLQH"
      }
    },
    {
      "cell_type": "code",
      "source": [
        "# Creamos un nuevo data frame que contenga únicamente las 2 columnas que utilizaremos\n",
        "df_fecha_codResultado = data[['Fecha','IdCodResultado']]"
      ],
      "metadata": {
        "id": "9_ehNtkqyl3W"
      },
      "execution_count": null,
      "outputs": []
    },
    {
      "cell_type": "code",
      "source": [
        "df_fecha_codResultado"
      ],
      "metadata": {
        "id": "pm9eDnC32mdz"
      },
      "execution_count": null,
      "outputs": []
    },
    {
      "cell_type": "code",
      "source": [
        "# Para poder gráficas nuestro dataFrame vamos a convertir los campos\n",
        "# Fecha lo convertimos a DateTime\n",
        "# IdCodResultado lo convertimos a String\n",
        "\n",
        "df_fecha_codResultado.Fecha = pd.to_datetime(df_fecha_codResultado.Fecha,dayfirst=True)\n",
        "df_fecha_codResultado.IdCodResultado = df_fecha_codResultado['IdCodResultado'].astype('string')\n",
        "\n",
        "# Realizamos un crosstab y lo almacenamos en un nuevo dataFrame\n",
        "df_fecha_coResultado_group = pd.crosstab(df_fecha_codResultado.Fecha, df_fecha_codResultado.IdCodResultado).resample(\"M\").sum().reset_index()\n",
        "\n",
        "df_fecha_coResultado_group\n"
      ],
      "metadata": {
        "id": "M653J5XMCG2M"
      },
      "execution_count": null,
      "outputs": []
    },
    {
      "cell_type": "markdown",
      "source": [
        "# Visualización de datos"
      ],
      "metadata": {
        "id": "QIm_UM7jAcY4"
      }
    },
    {
      "cell_type": "code",
      "source": [
        "# Para la visualización de datos vamos a utilizar la librería Altair\n",
        "import altair as alt"
      ],
      "metadata": {
        "id": "pxK9b4y42zXb"
      },
      "execution_count": null,
      "outputs": []
    },
    {
      "cell_type": "code",
      "source": [
        "# Promesas de pago por mes\n",
        "alt.Chart(df_fecha_coResultado_group).mark_bar(size=60).encode(\n",
        "    y= alt.Y(\"49\", title=\"Promesas\"),\n",
        "    x= alt.X(\"Fecha\", title = \"\",timeUnit='month'),\n",
        "    color = alt.Color('49', title = \"Volumen\", scale = alt.Scale( scheme = \"blues\")),\n",
        "    tooltip=['49']\n",
        ").interactive().properties(\n",
        "    title=\"Promesas de pago en el segundo semestre del año 2010\"\n",
        ")"
      ],
      "metadata": {
        "id": "xmR11T6QPcFu"
      },
      "execution_count": null,
      "outputs": []
    },
    {
      "cell_type": "markdown",
      "source": [
        "Con el trabajo que hemos realizado hasta este punto ya pudimos identificar **el mes en el que se registraron más promesas de pago, que fue Agosto con un total de 5,402**.\n",
        "\n",
        "El paso siguiente es saber el volumen de gestiones totales en comparacion con la cantidad de promesas de pago"
      ],
      "metadata": {
        "id": "4bvNaoPdadbh"
      }
    },
    {
      "cell_type": "code",
      "source": [
        "# Obtenemos los totales por mes de todos los codigos de resultado\n",
        "# con la función crosstab hacemos el cruce para tener como columnas los IdCodResultado\n",
        "# la función resample nos ayuda a poner como fila el mes\n",
        "# la función sum para hacer la sumatoria de las veces que aparece un IdCodResultado\n",
        "\n",
        "df_totales = pd.crosstab(df_fecha_codResultado.Fecha,df_fecha_codResultado.IdCodResultado).resample(\"M\").sum().reset_index()\n",
        "\n",
        "# Creamos la columna y fila del total de IdCodResultado que sería equivalente a contar las gestiones\n",
        "df_totales.loc['total', :] = df_totales.sum(numeric_only=True)\n",
        "df_totales['total'] = df_totales.sum(axis=1, numeric_only=True)\n",
        "df_totales\n"
      ],
      "metadata": {
        "id": "PP_y_T6Oa19M"
      },
      "execution_count": null,
      "outputs": []
    },
    {
      "cell_type": "code",
      "source": [
        "# Creamos los objetos para graficar\n",
        "scale = alt.Scale(domain=[\"Promesas\",\"Gestiones\"], range=['red','lightblue'])\n",
        "\n",
        "base = alt.Chart(df_totales).transform_calculate(\n",
        "    line=\"'Promesas'\",\n",
        "    bar=\"'Gestiones'\"\n",
        ").encode(\n",
        "    alt.X(\"Fecha\",title=\"\",timeUnit='month'),\n",
        ").properties(\n",
        "    title=\"Volumen de gestiones y cantidad de promesas conseguidas\"\n",
        ")\n",
        "\n",
        "bar = base.mark_bar().encode(\n",
        "    alt.Y('total',title=\"Gestiones\"),\n",
        "    tooltip=[alt.Tooltip(\"total\", title='Gestiones')],\n",
        "    color=alt.Color('bar:N', scale=scale, title=''),\n",
        ")\n",
        "\n",
        "line = base.mark_line(point=alt.OverlayMarkDef(color=\"red\")).encode(\n",
        "    alt.Y(\"49\",title=\"\"),\n",
        "    tooltip=[alt.Tooltip('49',title='Promesas')],\n",
        "    color=alt.Color('line:N', scale=scale, title='')\n",
        ")\n",
        "\n",
        "text_line = line.mark_text(\n",
        "    align='right',\n",
        "    baseline='bottom',\n",
        "    dx=3\n",
        ").encode( \n",
        "    text='49'\n",
        ")\n",
        "\n",
        "bar+(line+text_line).interactive()\n"
      ],
      "metadata": {
        "id": "qVT7L8EafC3B"
      },
      "execution_count": null,
      "outputs": []
    },
    {
      "cell_type": "markdown",
      "source": [
        "Con la siguiente gráfica podemos observar lo siguiente:\n",
        "\n",
        "1. El volumen de gestiones es abismalmente superior a la cantidad de promesas de pago generadas en cada mes.\n",
        "\n",
        "2. El volumen de gestiones no siempre es proporcional a la cantidad de promesas de pago obtenidas. \n",
        "En el mes de Septiembre se obtuvieron un total de 3,952 promesas de pago con un volumen de gestiones de 217,595, en el mes de Octubre se obtuvieron 4,296 con un volumen de 192,522."
      ],
      "metadata": {
        "id": "6xgG0IWMP4fr"
      }
    },
    {
      "cell_type": "markdown",
      "source": [
        "# Conclusiones\n",
        "En este punto ya podemos contestar las preguntas que planteamos al principio.\n",
        "\n",
        "1. ¿Que cantidad de Gestiones se realizan en periodos de 1 mes?\n",
        "2. ¿Que cantidad de promesas de pago se consiguieron en periodos de 1 mes?\n",
        "**R= se puede visualizar en la gráfica \"Volumen de gestiones y cantidad de promesas conseguidas\"**\n",
        "\n",
        "3. ¿Hay relación entre el volumen de Gestiones y la cantidad de promesas de pago? \n",
        "**R= con los datos que se tienen hasta el momento no se observa una relación que nos indique que a mayor volumen de gestiones mayor cantidad de promesas de pago se van a obtener, claro que esto es forma general.**"
      ],
      "metadata": {
        "id": "zM3v3repUIL6"
      }
    },
    {
      "cell_type": "markdown",
      "source": [
        "# Segunda parte\n",
        "\n",
        "Con el análisis anterior, surgieron nuevas preguntas las cuales podrían esclarecer la manera en que se trata a una cuenta.\n",
        "\n",
        "Las preguntas que surgieron fueron las siguientes:\n",
        "\n",
        "1. ¿Que cantidad de gestiones recibe en promedio una cuenta?\n",
        "\n",
        "1. ¿En periodos de 1 mes se llega a gestionar todas las cuentas?"
      ],
      "metadata": {
        "id": "tlx_ZgmGJQVs"
      }
    },
    {
      "cell_type": "code",
      "source": [
        "# Creamos una copia del dataframe original\n",
        "df_copy = data\n",
        "# Convertimos el campo a datetime\n",
        "df_copy.Fecha = pd.to_datetime(df_copy.Fecha,dayfirst=True)\n",
        "\n",
        "# Convertimos a entero el la fecha y la insertamos en una nueva columna llamada Mes\n",
        "df_copy.insert(0,'Mes', (data['Fecha'].dt.month).astype(int) )\n",
        "\n",
        "\n",
        "\n"
      ],
      "metadata": {
        "id": "ILEROgovg806"
      },
      "execution_count": null,
      "outputs": []
    },
    {
      "cell_type": "code",
      "source": [
        "# Agrupamos primero por mes y despues por IdCtaDesp para no hacer un conteo doble de gestiones\n",
        "df_gestiones_promedio = df_copy.groupby(['Mes','IdCtaDesp'],as_index=False).IdCtaDesp.count()\n",
        "\n",
        "df_gestiones_promedio\n"
      ],
      "metadata": {
        "id": "gD1IhYREMLhl"
      },
      "execution_count": null,
      "outputs": []
    },
    {
      "cell_type": "code",
      "source": [
        "# Agrupamos por el mes, agregando el promedio del campo IdCTaDesp que contiene el total de gestiones y los redondeamos\n",
        "df_promedio_final = df_gestiones_promedio.groupby(['Mes'],as_index=False).mean('IdCtaDesp').round()\n",
        "\n",
        "# Convertimos el mes a texto para mejor visualización al momento de generar el gráfico\n",
        "df_promedio_final['Mes'] = pd.to_datetime(df_promedio_final['Mes'], format='%m').dt.strftime('%b')\n",
        "\n",
        "df_promedio_final =df_promedio_final.sort_index()\n",
        "\n",
        "df_promedio_final\n"
      ],
      "metadata": {
        "id": "_jvvDoHpWXmF"
      },
      "execution_count": null,
      "outputs": []
    },
    {
      "cell_type": "code",
      "source": [
        "# Promedio de gestiones realizadas a una cuenta por mes\n",
        " \n",
        "c1 = alt.Chart(df_promedio_final).mark_bar().encode(\n",
        "    y= alt.Y(\"IdCtaDesp\", title=\"Gestiones\"),\n",
        "    x= alt.X(\"Mes\", title = \"\",sort=['Mes']),\n",
        "    color = alt.Color('IdCtaDesp', title = \"Gestiones\", scale = alt.Scale( scheme = \"blues\")),\n",
        "    tooltip=[alt.Tooltip('IdCtaDesp',title=\"Gestiones\")]\n",
        ").interactive().properties(\n",
        "    title=\"Promedio de gestiones por cuenta\",\n",
        "    width = 350\n",
        ")\n",
        "\n",
        "line = base.mark_line(point=alt.OverlayMarkDef(color=\"red\")).encode(\n",
        "    alt.Y(\"49\",title=\"\"),\n",
        "    tooltip=[alt.Tooltip('49',title='Promesas')],\n",
        "    color=alt.Color('line:N', scale=scale, title='')\n",
        ")\n",
        "\n",
        "text_line = line.mark_text(\n",
        "    align='right',\n",
        "    baseline='bottom',\n",
        "    dx=3\n",
        ").encode( \n",
        "    text='49'\n",
        ")\n",
        "\n",
        "c2 = line+text_line\n",
        "\n",
        "c1 | c2"
      ],
      "metadata": {
        "id": "998sWeNY2CAq"
      },
      "execution_count": null,
      "outputs": []
    },
    {
      "cell_type": "markdown",
      "source": [
        "Obteniendo el promedio de gestiones que recibe una cuenta en un mes, podemos observar que va en aumento, sin embargo las promesas obtenidas no son proporcionales, lo que pudiera indicarnos `que la insitencia en la cobranza no siempre es la clave para conseguir una promesa de pago`."
      ],
      "metadata": {
        "id": "JqIG1BOF5ik0"
      }
    },
    {
      "cell_type": "code",
      "source": [
        "# En el dataFrame df_gestiones_promedio ya teniamos agrupadas las cuentas, entonces se eliminaron los duplicados\n",
        "# por lo cual vamos a hacer el conteo en vez del promedio para saber que cantidad de cuentas se gestionan en periodos de 1 mes\n",
        "df_ctas_mes = df_gestiones_promedio.groupby(['Mes'],as_index=False).count()\n",
        "\n",
        "df_ctas_mes['Mes'] = pd.to_datetime(df_ctas_mes['Mes'], format='%m').dt.strftime('%b')\n",
        "\n",
        "df_ctas_mes\n"
      ],
      "metadata": {
        "id": "w4VYxRo430dq"
      },
      "execution_count": null,
      "outputs": []
    },
    {
      "cell_type": "code",
      "source": [
        "# importamos spacing de numpy para la separación de gráficas\n",
        "from numpy import spacing\n",
        "\n",
        "c1 = alt.Chart(df_ctas_mes).mark_bar().encode(\n",
        "    y= alt.Y(\"IdCtaDesp\", title=\"Cuentas\"),\n",
        "    x= alt.X(\"Mes\", title = \"\",sort=['Mes']),\n",
        "    color = alt.Color('IdCtaDesp', title = \"Cuentas\", scale = alt.Scale( scheme = \"blues\")),\n",
        "    tooltip=[alt.Tooltip('IdCtaDesp',title=\"Cuentas\")]\n",
        ").interactive().properties(\n",
        "    title=\"Total de Cuentas Gestionadas por mes\",\n",
        "    width=500\n",
        ")\n",
        "\n",
        "c2 = alt.Chart(df_totales).mark_bar().encode(\n",
        "    alt.X(\"Fecha\",title=\"\",timeUnit='month'),\n",
        "    alt.Y('total',title=\"Gestiones\"),\n",
        "    color = alt.Color('total', title = \"Gestiones\", scale = alt.Scale( scheme = \"teals\")),\n",
        ").properties(\n",
        "    title=\"Volumen de Gestiones por mes\",\n",
        "    \n",
        ")\n",
        "\n",
        "combined = alt.hconcat(\n",
        "    c1, c2\n",
        ").resolve_scale(\n",
        "    color='independent'\n",
        ").properties(\n",
        "    spacing=100\n",
        ")\n",
        "\n",
        "combined"
      ],
      "metadata": {
        "id": "kJ8fWC03b2Yn"
      },
      "execution_count": null,
      "outputs": []
    },
    {
      "cell_type": "markdown",
      "source": [
        "Con las gráficas anteriores podemos ver que la cantidad de cuentas gestionadas decrementa al igual que el volumen de gestiones en cada uno de los periodos, entonces empezamos a tener `menos cuentas gestionadas, menos volumen de gestiones y el promedio de gestiones por cuenta aumenta.`\n",
        "\n",
        "\n",
        "# Conclusiones\n",
        "Las preguntas que surgieron fueron las siguientes:\n",
        "\n",
        "¿Que cantidad de gestiones recibe en promedio una cuenta?\n",
        "**R= rango de 2 a 7 en el semestre**\n",
        "¿En periodos de 1 mes se llega a gestionar todas las cuentas?\n",
        "**R= Únicamente en el mes de Agosto se gestionaron todas las cuentas\n",
        "\n",
        "Para complementar las respuestas a las interrogantes se deben mencionar escenarios que pasan en la operacion de la agencia de cobranza, que son los siguientes:\n",
        "\n",
        "\n",
        "- **Disminución de cuentas a gestionar:** esta disminución de cuentas puede darse por que existen cuentas que su deuda puede quedar liquidada, al entrar en este estado ya no se contempla dentro del universo de cuentas a gestionar.\n",
        "\n",
        "- **Cantidad de gestiones por cuenta:** existen cuentas en las cuales obtienes una promesa de pago a la primer gestion, hay cuentas que hasta la *n* gestion obtienes una promesa de pago, estas gestiones previas a una promesa de pago se quedan registradas para que el la persona que interactue con el titular de la cuenta sepa el proceso de gestión de la misma."
      ],
      "metadata": {
        "id": "xQfJ9_vd6iv_"
      }
    }
  ]
}